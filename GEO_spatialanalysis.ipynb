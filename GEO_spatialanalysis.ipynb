{
 "cells": [
  {
   "cell_type": "code",
   "execution_count": 34,
   "metadata": {},
   "outputs": [],
   "source": [
    "import pandas as pd\n",
    "import plotly.express as px\n",
    "import plotly.graph_objects as go\n",
    "import os\n",
    "from dotenv import load_dotenv\n",
    "import pandas as pd\n",
    "\n",
    "\n"
   ]
  },
  {
   "cell_type": "code",
   "execution_count": 35,
   "metadata": {},
   "outputs": [],
   "source": [
    "# Load environment variables from .env file for Mapbox \n",
    "# load_dotenv()\n"
   ]
  },
  {
   "cell_type": "code",
   "execution_count": 36,
   "metadata": {},
   "outputs": [],
   "source": [
    "# Get the Mapbox token from the environment variable\n",
    "#mapbox_token = os.getenv('MAPBOX_ACCESS_TOKEN')"
   ]
  },
  {
   "cell_type": "code",
   "execution_count": 37,
   "metadata": {},
   "outputs": [],
   "source": [
    "# Ensure the token is loaded for Mapbox \n",
    "# if not mapbox_token:\n",
    "#     raise ValueError(\"Mapbox access token not found. Please set it in the .env file.\")"
   ]
  },
  {
   "cell_type": "code",
   "execution_count": 38,
   "metadata": {},
   "outputs": [],
   "source": [
    "# Set the Mapbox token\n",
    "# px.set_mapbox_access_token(mapbox_token)"
   ]
  },
  {
   "cell_type": "code",
   "execution_count": 39,
   "metadata": {},
   "outputs": [
    {
     "data": {
      "text/html": [
       "<div>\n",
       "<style scoped>\n",
       "    .dataframe tbody tr th:only-of-type {\n",
       "        vertical-align: middle;\n",
       "    }\n",
       "\n",
       "    .dataframe tbody tr th {\n",
       "        vertical-align: top;\n",
       "    }\n",
       "\n",
       "    .dataframe thead th {\n",
       "        text-align: right;\n",
       "    }\n",
       "</style>\n",
       "<table border=\"1\" class=\"dataframe\">\n",
       "  <thead>\n",
       "    <tr style=\"text-align: right;\">\n",
       "      <th></th>\n",
       "      <th>longitude</th>\n",
       "      <th>latitude</th>\n",
       "      <th>depth</th>\n",
       "      <th>magnitude</th>\n",
       "      <th>number_stations</th>\n",
       "      <th>min_station_distance</th>\n",
       "      <th>nodal_plane_1_dip</th>\n",
       "      <th>nodal_plane_1_rake</th>\n",
       "      <th>nodal_plane_1_strike</th>\n",
       "      <th>nodal_plane_2_dip</th>\n",
       "      <th>...</th>\n",
       "      <th>percent_double_couple</th>\n",
       "      <th>scalar_moment</th>\n",
       "      <th>tensor_mpp</th>\n",
       "      <th>tensor_mrp</th>\n",
       "      <th>tensor_mrr</th>\n",
       "      <th>tensor_mrt</th>\n",
       "      <th>tensor_mtp</th>\n",
       "      <th>tensor_mtt</th>\n",
       "      <th>soil_density</th>\n",
       "      <th>mmi_class</th>\n",
       "    </tr>\n",
       "  </thead>\n",
       "  <tbody>\n",
       "    <tr>\n",
       "      <th>0</th>\n",
       "      <td>-0.858789</td>\n",
       "      <td>0.217395</td>\n",
       "      <td>-0.138401</td>\n",
       "      <td>1.259068</td>\n",
       "      <td>-0.162005</td>\n",
       "      <td>-0.621166</td>\n",
       "      <td>0.764993</td>\n",
       "      <td>0.856091</td>\n",
       "      <td>-0.187953</td>\n",
       "      <td>-3.275980</td>\n",
       "      <td>...</td>\n",
       "      <td>-0.131701</td>\n",
       "      <td>-0.058242</td>\n",
       "      <td>-0.053888</td>\n",
       "      <td>-0.019118</td>\n",
       "      <td>-0.003759</td>\n",
       "      <td>-0.020843</td>\n",
       "      <td>-0.042471</td>\n",
       "      <td>0.055255</td>\n",
       "      <td>-1.885829</td>\n",
       "      <td>2</td>\n",
       "    </tr>\n",
       "    <tr>\n",
       "      <th>1</th>\n",
       "      <td>-1.586411</td>\n",
       "      <td>1.453026</td>\n",
       "      <td>2.957343</td>\n",
       "      <td>0.278647</td>\n",
       "      <td>-0.799719</td>\n",
       "      <td>0.182939</td>\n",
       "      <td>-0.322804</td>\n",
       "      <td>-1.396320</td>\n",
       "      <td>-0.143028</td>\n",
       "      <td>0.718901</td>\n",
       "      <td>...</td>\n",
       "      <td>-0.016844</td>\n",
       "      <td>-0.065891</td>\n",
       "      <td>-0.050703</td>\n",
       "      <td>-0.004675</td>\n",
       "      <td>-0.031174</td>\n",
       "      <td>-0.034918</td>\n",
       "      <td>-0.064978</td>\n",
       "      <td>0.059791</td>\n",
       "      <td>0.643055</td>\n",
       "      <td>0</td>\n",
       "    </tr>\n",
       "    <tr>\n",
       "      <th>2</th>\n",
       "      <td>-0.451425</td>\n",
       "      <td>1.705352</td>\n",
       "      <td>1.297980</td>\n",
       "      <td>0.866900</td>\n",
       "      <td>-0.368324</td>\n",
       "      <td>2.000126</td>\n",
       "      <td>-0.866703</td>\n",
       "      <td>-0.789901</td>\n",
       "      <td>-0.187953</td>\n",
       "      <td>-1.531736</td>\n",
       "      <td>...</td>\n",
       "      <td>-0.045558</td>\n",
       "      <td>-0.062687</td>\n",
       "      <td>-0.048152</td>\n",
       "      <td>0.025176</td>\n",
       "      <td>-0.045815</td>\n",
       "      <td>-0.028006</td>\n",
       "      <td>-0.074322</td>\n",
       "      <td>0.061360</td>\n",
       "      <td>-0.257281</td>\n",
       "      <td>0</td>\n",
       "    </tr>\n",
       "    <tr>\n",
       "      <th>3</th>\n",
       "      <td>-0.891745</td>\n",
       "      <td>0.639950</td>\n",
       "      <td>-0.776489</td>\n",
       "      <td>0.808074</td>\n",
       "      <td>-0.405837</td>\n",
       "      <td>-0.566141</td>\n",
       "      <td>-0.594754</td>\n",
       "      <td>-0.010221</td>\n",
       "      <td>0.620696</td>\n",
       "      <td>0.775167</td>\n",
       "      <td>...</td>\n",
       "      <td>-0.138879</td>\n",
       "      <td>-0.063113</td>\n",
       "      <td>-0.047294</td>\n",
       "      <td>-0.015576</td>\n",
       "      <td>-0.037577</td>\n",
       "      <td>-0.028875</td>\n",
       "      <td>-0.058419</td>\n",
       "      <td>0.058169</td>\n",
       "      <td>1.440778</td>\n",
       "      <td>0</td>\n",
       "    </tr>\n",
       "    <tr>\n",
       "      <th>4</th>\n",
       "      <td>0.049063</td>\n",
       "      <td>0.917870</td>\n",
       "      <td>-0.567035</td>\n",
       "      <td>0.866900</td>\n",
       "      <td>1.919944</td>\n",
       "      <td>1.537912</td>\n",
       "      <td>-0.594754</td>\n",
       "      <td>-1.396320</td>\n",
       "      <td>1.564120</td>\n",
       "      <td>0.775167</td>\n",
       "      <td>...</td>\n",
       "      <td>-0.009665</td>\n",
       "      <td>-0.062141</td>\n",
       "      <td>-0.048454</td>\n",
       "      <td>0.008477</td>\n",
       "      <td>-0.034790</td>\n",
       "      <td>-0.019123</td>\n",
       "      <td>-0.052158</td>\n",
       "      <td>0.058550</td>\n",
       "      <td>-0.138119</td>\n",
       "      <td>1</td>\n",
       "    </tr>\n",
       "  </tbody>\n",
       "</table>\n",
       "<p>5 rows × 31 columns</p>\n",
       "</div>"
      ],
      "text/plain": [
       "   longitude  latitude     depth  magnitude  number_stations  \\\n",
       "0  -0.858789  0.217395 -0.138401   1.259068        -0.162005   \n",
       "1  -1.586411  1.453026  2.957343   0.278647        -0.799719   \n",
       "2  -0.451425  1.705352  1.297980   0.866900        -0.368324   \n",
       "3  -0.891745  0.639950 -0.776489   0.808074        -0.405837   \n",
       "4   0.049063  0.917870 -0.567035   0.866900         1.919944   \n",
       "\n",
       "   min_station_distance  nodal_plane_1_dip  nodal_plane_1_rake  \\\n",
       "0             -0.621166           0.764993            0.856091   \n",
       "1              0.182939          -0.322804           -1.396320   \n",
       "2              2.000126          -0.866703           -0.789901   \n",
       "3             -0.566141          -0.594754           -0.010221   \n",
       "4              1.537912          -0.594754           -1.396320   \n",
       "\n",
       "   nodal_plane_1_strike  nodal_plane_2_dip  ...  percent_double_couple  \\\n",
       "0             -0.187953          -3.275980  ...              -0.131701   \n",
       "1             -0.143028           0.718901  ...              -0.016844   \n",
       "2             -0.187953          -1.531736  ...              -0.045558   \n",
       "3              0.620696           0.775167  ...              -0.138879   \n",
       "4              1.564120           0.775167  ...              -0.009665   \n",
       "\n",
       "   scalar_moment  tensor_mpp  tensor_mrp  tensor_mrr  tensor_mrt  tensor_mtp  \\\n",
       "0      -0.058242   -0.053888   -0.019118   -0.003759   -0.020843   -0.042471   \n",
       "1      -0.065891   -0.050703   -0.004675   -0.031174   -0.034918   -0.064978   \n",
       "2      -0.062687   -0.048152    0.025176   -0.045815   -0.028006   -0.074322   \n",
       "3      -0.063113   -0.047294   -0.015576   -0.037577   -0.028875   -0.058419   \n",
       "4      -0.062141   -0.048454    0.008477   -0.034790   -0.019123   -0.052158   \n",
       "\n",
       "   tensor_mtt  soil_density  mmi_class  \n",
       "0    0.055255     -1.885829          2  \n",
       "1    0.059791      0.643055          0  \n",
       "2    0.061360     -0.257281          0  \n",
       "3    0.058169      1.440778          0  \n",
       "4    0.058550     -0.138119          1  \n",
       "\n",
       "[5 rows x 31 columns]"
      ]
     },
     "execution_count": 39,
     "metadata": {},
     "output_type": "execute_result"
    }
   ],
   "source": [
    "# Import scaled earthquake data\n",
    "df = pd.read_csv('Resources/earthquake_data_standardized.csv')\n",
    "df.head()"
   ]
  },
  {
   "cell_type": "code",
   "execution_count": 40,
   "metadata": {},
   "outputs": [
    {
     "name": "stdout",
     "output_type": "stream",
     "text": [
      "         latitude   longitude   magnitude\n",
      "count  957.000000  957.000000  957.000000\n",
      "mean     0.013765    0.002390    0.016444\n",
      "std      1.016818    1.028876    1.003634\n",
      "min     -2.865407   -1.670031   -1.878278\n",
      "25%     -0.649769   -0.887369   -0.701773\n",
      "50%      0.080567   -0.222171   -0.191955\n",
      "75%      0.661279    0.808957    0.474731\n",
      "max      2.129936    3.896871    6.161170\n"
     ]
    }
   ],
   "source": [
    "# Check the data to make sure it's within expected ranges\n",
    "print(df[['latitude', 'longitude', 'magnitude']].describe())"
   ]
  },
  {
   "cell_type": "code",
   "execution_count": 41,
   "metadata": {},
   "outputs": [
    {
     "name": "stdout",
     "output_type": "stream",
     "text": [
      "First few rows of the dataset:\n",
      "   longitude  latitude     depth  magnitude  number_stations  \\\n",
      "0  -0.858789  0.217395 -0.138401   1.259068        -0.162005   \n",
      "1  -1.586411  1.453026  2.957343   0.278647        -0.799719   \n",
      "2  -0.451425  1.705352  1.297980   0.866900        -0.368324   \n",
      "3  -0.891745  0.639950 -0.776489   0.808074        -0.405837   \n",
      "4   0.049063  0.917870 -0.567035   0.866900         1.919944   \n",
      "\n",
      "   min_station_distance  nodal_plane_1_dip  nodal_plane_1_rake  \\\n",
      "0             -0.621166           0.764993            0.856091   \n",
      "1              0.182939          -0.322804           -1.396320   \n",
      "2              2.000126          -0.866703           -0.789901   \n",
      "3             -0.566141          -0.594754           -0.010221   \n",
      "4              1.537912          -0.594754           -1.396320   \n",
      "\n",
      "   nodal_plane_1_strike  nodal_plane_2_dip  ...  percent_double_couple  \\\n",
      "0             -0.187953          -3.275980  ...              -0.131701   \n",
      "1             -0.143028           0.718901  ...              -0.016844   \n",
      "2             -0.187953          -1.531736  ...              -0.045558   \n",
      "3              0.620696           0.775167  ...              -0.138879   \n",
      "4              1.564120           0.775167  ...              -0.009665   \n",
      "\n",
      "   scalar_moment  tensor_mpp  tensor_mrp  tensor_mrr  tensor_mrt  tensor_mtp  \\\n",
      "0      -0.058242   -0.053888   -0.019118   -0.003759   -0.020843   -0.042471   \n",
      "1      -0.065891   -0.050703   -0.004675   -0.031174   -0.034918   -0.064978   \n",
      "2      -0.062687   -0.048152    0.025176   -0.045815   -0.028006   -0.074322   \n",
      "3      -0.063113   -0.047294   -0.015576   -0.037577   -0.028875   -0.058419   \n",
      "4      -0.062141   -0.048454    0.008477   -0.034790   -0.019123   -0.052158   \n",
      "\n",
      "   tensor_mtt  soil_density  mmi_class  \n",
      "0    0.055255     -1.885829          2  \n",
      "1    0.059791      0.643055          0  \n",
      "2    0.061360     -0.257281          0  \n",
      "3    0.058169      1.440778          0  \n",
      "4    0.058550     -0.138119          1  \n",
      "\n",
      "[5 rows x 31 columns]\n",
      "Filtered data points in the US region: 0\n",
      "Empty DataFrame\n",
      "Columns: [longitude, latitude, depth, magnitude, number_stations, min_station_distance, nodal_plane_1_dip, nodal_plane_1_rake, nodal_plane_1_strike, nodal_plane_2_dip, nodal_plane_2_rake, nodal_plane_2_strike, n_axis_azimuth, n_axis_length, n_axis_plunge, p_axis_azimuth, p_axis_length, p_axis_plunge, t_axis_azimuth, t_axis_length, t_axis_plunge, percent_double_couple, scalar_moment, tensor_mpp, tensor_mrp, tensor_mrr, tensor_mrt, tensor_mtp, tensor_mtt, soil_density, mmi_class, magnitude_size]\n",
      "Index: []\n",
      "\n",
      "[0 rows x 32 columns]\n",
      "No data points found within the specified latitude and longitude bounds.\n"
     ]
    }
   ],
   "source": [
    "# Print the first few rows of the dataset to understand its structure\n",
    "print(\"First few rows of the dataset:\")\n",
    "print(df.head())\n",
    "\n",
    "# Filter out non-positive magnitudes\n",
    "df = df[df['magnitude'] > 0]\n",
    "\n",
    "# Normalize the magnitudes for sizing\n",
    "df['magnitude_size'] = (df['magnitude'] - df['magnitude'].min()) / (df['magnitude'].max() - df['magnitude'].min()) * 10 + 1\n",
    "\n",
    "# Filter data for earthquakes within the US region (approximate latitude and longitude ranges)\n",
    "us_df = df[(df['latitude'] >= 25.8400) & (df['latitude'] <= 49.3800) & \n",
    "           (df['longitude'] >= -124.670) & (df['longitude'] <= -66.9500)]\n",
    "\n",
    "# Check if there are any data points in the filtered DataFrame\n",
    "print(\"Filtered data points in the US region:\", us_df.shape[0])\n",
    "print(us_df.head())  # Print the first few rows to verify\n",
    "\n",
    "# If there are no data points, adjust the bounds or check the data\n",
    "if us_df.empty:\n",
    "    print(\"No data points found within the specified latitude and longitude bounds.\")\n",
    "else:\n",
    "    # Create a scatter plot with Plotly\n",
    "    fig = px.scatter_mapbox(us_df, lat='latitude', lon='longitude', \n",
    "                            color='magnitude', size='magnitude_size',\n",
    "                            color_continuous_scale=px.colors.cyclical.IceFire, size_max=20, zoom=4,\n",
    "                            title=\"US Earthquake Data Visualization\")\n",
    "\n",
    "    # Update the layout with Mapbox style and centering on the US\n",
    "    fig.update_layout(\n",
    "        mapbox_style=\"open-street-map\",\n",
    "        mapbox_center={\"lat\": 37.0902, \"lon\": -95.7129},  # Center of the US\n",
    "        mapbox_zoom=4,  # Adjust zoom level for better visibility\n",
    "    )\n",
    "\n",
    "    # Show the plot in the notebook\n",
    "    fig.show()"
   ]
  },
  {
   "cell_type": "code",
   "execution_count": 42,
   "metadata": {},
   "outputs": [
    {
     "data": {
      "application/vnd.plotly.v1+json": {
       "config": {
        "plotlyServerURL": "https://plot.ly"
       },
       "data": [
        {
         "hovertemplate": "magnitude_size=%{marker.size}<br>latitude=%{lat}<br>longitude=%{lon}<br>magnitude=%{marker.color}<extra></extra>",
         "lat": [],
         "legendgroup": "",
         "lon": [],
         "marker": {
          "color": [],
          "coloraxis": "coloraxis",
          "size": [],
          "sizemode": "area",
          "sizeref": null
         },
         "mode": "markers",
         "name": "",
         "showlegend": false,
         "subplot": "mapbox",
         "type": "scattermapbox"
        }
       ],
       "layout": {
        "coloraxis": {
         "colorbar": {
          "title": {
           "text": "magnitude"
          }
         },
         "colorscale": [
          [
           0,
           "#000000"
          ],
          [
           0.0625,
           "#001f4d"
          ],
          [
           0.125,
           "#003786"
          ],
          [
           0.1875,
           "#0e58a8"
          ],
          [
           0.25,
           "#217eb8"
          ],
          [
           0.3125,
           "#30a4ca"
          ],
          [
           0.375,
           "#54c8df"
          ],
          [
           0.4375,
           "#9be4ef"
          ],
          [
           0.5,
           "#e1e9d1"
          ],
          [
           0.5625,
           "#f3d573"
          ],
          [
           0.625,
           "#e7b000"
          ],
          [
           0.6875,
           "#da8200"
          ],
          [
           0.75,
           "#c65400"
          ],
          [
           0.8125,
           "#ac2301"
          ],
          [
           0.875,
           "#820000"
          ],
          [
           0.9375,
           "#4c0000"
          ],
          [
           1,
           "#000000"
          ]
         ]
        },
        "legend": {
         "itemsizing": "constant",
         "tracegroupgap": 0
        },
        "mapbox": {
         "accesstoken": "pk.eyJ1IjoiYXNrdW1hciIsImEiOiJjbHg1MjhoZmQxZGF5MnFvaXJyN2QzaTRmIn0.fk2Npj-M9nSczyuwvrlsWg",
         "center": {
          "lat": 37.0902,
          "lon": -95.7129
         },
         "domain": {
          "x": [
           0,
           1
          ],
          "y": [
           0,
           1
          ]
         },
         "style": "open-street-map",
         "zoom": 3
        },
        "template": {
         "data": {
          "bar": [
           {
            "error_x": {
             "color": "#2a3f5f"
            },
            "error_y": {
             "color": "#2a3f5f"
            },
            "marker": {
             "line": {
              "color": "#E5ECF6",
              "width": 0.5
             },
             "pattern": {
              "fillmode": "overlay",
              "size": 10,
              "solidity": 0.2
             }
            },
            "type": "bar"
           }
          ],
          "barpolar": [
           {
            "marker": {
             "line": {
              "color": "#E5ECF6",
              "width": 0.5
             },
             "pattern": {
              "fillmode": "overlay",
              "size": 10,
              "solidity": 0.2
             }
            },
            "type": "barpolar"
           }
          ],
          "carpet": [
           {
            "aaxis": {
             "endlinecolor": "#2a3f5f",
             "gridcolor": "white",
             "linecolor": "white",
             "minorgridcolor": "white",
             "startlinecolor": "#2a3f5f"
            },
            "baxis": {
             "endlinecolor": "#2a3f5f",
             "gridcolor": "white",
             "linecolor": "white",
             "minorgridcolor": "white",
             "startlinecolor": "#2a3f5f"
            },
            "type": "carpet"
           }
          ],
          "choropleth": [
           {
            "colorbar": {
             "outlinewidth": 0,
             "ticks": ""
            },
            "type": "choropleth"
           }
          ],
          "contour": [
           {
            "colorbar": {
             "outlinewidth": 0,
             "ticks": ""
            },
            "colorscale": [
             [
              0,
              "#0d0887"
             ],
             [
              0.1111111111111111,
              "#46039f"
             ],
             [
              0.2222222222222222,
              "#7201a8"
             ],
             [
              0.3333333333333333,
              "#9c179e"
             ],
             [
              0.4444444444444444,
              "#bd3786"
             ],
             [
              0.5555555555555556,
              "#d8576b"
             ],
             [
              0.6666666666666666,
              "#ed7953"
             ],
             [
              0.7777777777777778,
              "#fb9f3a"
             ],
             [
              0.8888888888888888,
              "#fdca26"
             ],
             [
              1,
              "#f0f921"
             ]
            ],
            "type": "contour"
           }
          ],
          "contourcarpet": [
           {
            "colorbar": {
             "outlinewidth": 0,
             "ticks": ""
            },
            "type": "contourcarpet"
           }
          ],
          "heatmap": [
           {
            "colorbar": {
             "outlinewidth": 0,
             "ticks": ""
            },
            "colorscale": [
             [
              0,
              "#0d0887"
             ],
             [
              0.1111111111111111,
              "#46039f"
             ],
             [
              0.2222222222222222,
              "#7201a8"
             ],
             [
              0.3333333333333333,
              "#9c179e"
             ],
             [
              0.4444444444444444,
              "#bd3786"
             ],
             [
              0.5555555555555556,
              "#d8576b"
             ],
             [
              0.6666666666666666,
              "#ed7953"
             ],
             [
              0.7777777777777778,
              "#fb9f3a"
             ],
             [
              0.8888888888888888,
              "#fdca26"
             ],
             [
              1,
              "#f0f921"
             ]
            ],
            "type": "heatmap"
           }
          ],
          "heatmapgl": [
           {
            "colorbar": {
             "outlinewidth": 0,
             "ticks": ""
            },
            "colorscale": [
             [
              0,
              "#0d0887"
             ],
             [
              0.1111111111111111,
              "#46039f"
             ],
             [
              0.2222222222222222,
              "#7201a8"
             ],
             [
              0.3333333333333333,
              "#9c179e"
             ],
             [
              0.4444444444444444,
              "#bd3786"
             ],
             [
              0.5555555555555556,
              "#d8576b"
             ],
             [
              0.6666666666666666,
              "#ed7953"
             ],
             [
              0.7777777777777778,
              "#fb9f3a"
             ],
             [
              0.8888888888888888,
              "#fdca26"
             ],
             [
              1,
              "#f0f921"
             ]
            ],
            "type": "heatmapgl"
           }
          ],
          "histogram": [
           {
            "marker": {
             "pattern": {
              "fillmode": "overlay",
              "size": 10,
              "solidity": 0.2
             }
            },
            "type": "histogram"
           }
          ],
          "histogram2d": [
           {
            "colorbar": {
             "outlinewidth": 0,
             "ticks": ""
            },
            "colorscale": [
             [
              0,
              "#0d0887"
             ],
             [
              0.1111111111111111,
              "#46039f"
             ],
             [
              0.2222222222222222,
              "#7201a8"
             ],
             [
              0.3333333333333333,
              "#9c179e"
             ],
             [
              0.4444444444444444,
              "#bd3786"
             ],
             [
              0.5555555555555556,
              "#d8576b"
             ],
             [
              0.6666666666666666,
              "#ed7953"
             ],
             [
              0.7777777777777778,
              "#fb9f3a"
             ],
             [
              0.8888888888888888,
              "#fdca26"
             ],
             [
              1,
              "#f0f921"
             ]
            ],
            "type": "histogram2d"
           }
          ],
          "histogram2dcontour": [
           {
            "colorbar": {
             "outlinewidth": 0,
             "ticks": ""
            },
            "colorscale": [
             [
              0,
              "#0d0887"
             ],
             [
              0.1111111111111111,
              "#46039f"
             ],
             [
              0.2222222222222222,
              "#7201a8"
             ],
             [
              0.3333333333333333,
              "#9c179e"
             ],
             [
              0.4444444444444444,
              "#bd3786"
             ],
             [
              0.5555555555555556,
              "#d8576b"
             ],
             [
              0.6666666666666666,
              "#ed7953"
             ],
             [
              0.7777777777777778,
              "#fb9f3a"
             ],
             [
              0.8888888888888888,
              "#fdca26"
             ],
             [
              1,
              "#f0f921"
             ]
            ],
            "type": "histogram2dcontour"
           }
          ],
          "mesh3d": [
           {
            "colorbar": {
             "outlinewidth": 0,
             "ticks": ""
            },
            "type": "mesh3d"
           }
          ],
          "parcoords": [
           {
            "line": {
             "colorbar": {
              "outlinewidth": 0,
              "ticks": ""
             }
            },
            "type": "parcoords"
           }
          ],
          "pie": [
           {
            "automargin": true,
            "type": "pie"
           }
          ],
          "scatter": [
           {
            "fillpattern": {
             "fillmode": "overlay",
             "size": 10,
             "solidity": 0.2
            },
            "type": "scatter"
           }
          ],
          "scatter3d": [
           {
            "line": {
             "colorbar": {
              "outlinewidth": 0,
              "ticks": ""
             }
            },
            "marker": {
             "colorbar": {
              "outlinewidth": 0,
              "ticks": ""
             }
            },
            "type": "scatter3d"
           }
          ],
          "scattercarpet": [
           {
            "marker": {
             "colorbar": {
              "outlinewidth": 0,
              "ticks": ""
             }
            },
            "type": "scattercarpet"
           }
          ],
          "scattergeo": [
           {
            "marker": {
             "colorbar": {
              "outlinewidth": 0,
              "ticks": ""
             }
            },
            "type": "scattergeo"
           }
          ],
          "scattergl": [
           {
            "marker": {
             "colorbar": {
              "outlinewidth": 0,
              "ticks": ""
             }
            },
            "type": "scattergl"
           }
          ],
          "scattermapbox": [
           {
            "marker": {
             "colorbar": {
              "outlinewidth": 0,
              "ticks": ""
             }
            },
            "type": "scattermapbox"
           }
          ],
          "scatterpolar": [
           {
            "marker": {
             "colorbar": {
              "outlinewidth": 0,
              "ticks": ""
             }
            },
            "type": "scatterpolar"
           }
          ],
          "scatterpolargl": [
           {
            "marker": {
             "colorbar": {
              "outlinewidth": 0,
              "ticks": ""
             }
            },
            "type": "scatterpolargl"
           }
          ],
          "scatterternary": [
           {
            "marker": {
             "colorbar": {
              "outlinewidth": 0,
              "ticks": ""
             }
            },
            "type": "scatterternary"
           }
          ],
          "surface": [
           {
            "colorbar": {
             "outlinewidth": 0,
             "ticks": ""
            },
            "colorscale": [
             [
              0,
              "#0d0887"
             ],
             [
              0.1111111111111111,
              "#46039f"
             ],
             [
              0.2222222222222222,
              "#7201a8"
             ],
             [
              0.3333333333333333,
              "#9c179e"
             ],
             [
              0.4444444444444444,
              "#bd3786"
             ],
             [
              0.5555555555555556,
              "#d8576b"
             ],
             [
              0.6666666666666666,
              "#ed7953"
             ],
             [
              0.7777777777777778,
              "#fb9f3a"
             ],
             [
              0.8888888888888888,
              "#fdca26"
             ],
             [
              1,
              "#f0f921"
             ]
            ],
            "type": "surface"
           }
          ],
          "table": [
           {
            "cells": {
             "fill": {
              "color": "#EBF0F8"
             },
             "line": {
              "color": "white"
             }
            },
            "header": {
             "fill": {
              "color": "#C8D4E3"
             },
             "line": {
              "color": "white"
             }
            },
            "type": "table"
           }
          ]
         },
         "layout": {
          "annotationdefaults": {
           "arrowcolor": "#2a3f5f",
           "arrowhead": 0,
           "arrowwidth": 1
          },
          "autotypenumbers": "strict",
          "coloraxis": {
           "colorbar": {
            "outlinewidth": 0,
            "ticks": ""
           }
          },
          "colorscale": {
           "diverging": [
            [
             0,
             "#8e0152"
            ],
            [
             0.1,
             "#c51b7d"
            ],
            [
             0.2,
             "#de77ae"
            ],
            [
             0.3,
             "#f1b6da"
            ],
            [
             0.4,
             "#fde0ef"
            ],
            [
             0.5,
             "#f7f7f7"
            ],
            [
             0.6,
             "#e6f5d0"
            ],
            [
             0.7,
             "#b8e186"
            ],
            [
             0.8,
             "#7fbc41"
            ],
            [
             0.9,
             "#4d9221"
            ],
            [
             1,
             "#276419"
            ]
           ],
           "sequential": [
            [
             0,
             "#0d0887"
            ],
            [
             0.1111111111111111,
             "#46039f"
            ],
            [
             0.2222222222222222,
             "#7201a8"
            ],
            [
             0.3333333333333333,
             "#9c179e"
            ],
            [
             0.4444444444444444,
             "#bd3786"
            ],
            [
             0.5555555555555556,
             "#d8576b"
            ],
            [
             0.6666666666666666,
             "#ed7953"
            ],
            [
             0.7777777777777778,
             "#fb9f3a"
            ],
            [
             0.8888888888888888,
             "#fdca26"
            ],
            [
             1,
             "#f0f921"
            ]
           ],
           "sequentialminus": [
            [
             0,
             "#0d0887"
            ],
            [
             0.1111111111111111,
             "#46039f"
            ],
            [
             0.2222222222222222,
             "#7201a8"
            ],
            [
             0.3333333333333333,
             "#9c179e"
            ],
            [
             0.4444444444444444,
             "#bd3786"
            ],
            [
             0.5555555555555556,
             "#d8576b"
            ],
            [
             0.6666666666666666,
             "#ed7953"
            ],
            [
             0.7777777777777778,
             "#fb9f3a"
            ],
            [
             0.8888888888888888,
             "#fdca26"
            ],
            [
             1,
             "#f0f921"
            ]
           ]
          },
          "colorway": [
           "#636efa",
           "#EF553B",
           "#00cc96",
           "#ab63fa",
           "#FFA15A",
           "#19d3f3",
           "#FF6692",
           "#B6E880",
           "#FF97FF",
           "#FECB52"
          ],
          "font": {
           "color": "#2a3f5f"
          },
          "geo": {
           "bgcolor": "white",
           "lakecolor": "white",
           "landcolor": "#E5ECF6",
           "showlakes": true,
           "showland": true,
           "subunitcolor": "white"
          },
          "hoverlabel": {
           "align": "left"
          },
          "hovermode": "closest",
          "mapbox": {
           "style": "light"
          },
          "paper_bgcolor": "white",
          "plot_bgcolor": "#E5ECF6",
          "polar": {
           "angularaxis": {
            "gridcolor": "white",
            "linecolor": "white",
            "ticks": ""
           },
           "bgcolor": "#E5ECF6",
           "radialaxis": {
            "gridcolor": "white",
            "linecolor": "white",
            "ticks": ""
           }
          },
          "scene": {
           "xaxis": {
            "backgroundcolor": "#E5ECF6",
            "gridcolor": "white",
            "gridwidth": 2,
            "linecolor": "white",
            "showbackground": true,
            "ticks": "",
            "zerolinecolor": "white"
           },
           "yaxis": {
            "backgroundcolor": "#E5ECF6",
            "gridcolor": "white",
            "gridwidth": 2,
            "linecolor": "white",
            "showbackground": true,
            "ticks": "",
            "zerolinecolor": "white"
           },
           "zaxis": {
            "backgroundcolor": "#E5ECF6",
            "gridcolor": "white",
            "gridwidth": 2,
            "linecolor": "white",
            "showbackground": true,
            "ticks": "",
            "zerolinecolor": "white"
           }
          },
          "shapedefaults": {
           "line": {
            "color": "#2a3f5f"
           }
          },
          "ternary": {
           "aaxis": {
            "gridcolor": "white",
            "linecolor": "white",
            "ticks": ""
           },
           "baxis": {
            "gridcolor": "white",
            "linecolor": "white",
            "ticks": ""
           },
           "bgcolor": "#E5ECF6",
           "caxis": {
            "gridcolor": "white",
            "linecolor": "white",
            "ticks": ""
           }
          },
          "title": {
           "x": 0.05
          },
          "xaxis": {
           "automargin": true,
           "gridcolor": "white",
           "linecolor": "white",
           "ticks": "",
           "title": {
            "standoff": 15
           },
           "zerolinecolor": "white",
           "zerolinewidth": 2
          },
          "yaxis": {
           "automargin": true,
           "gridcolor": "white",
           "linecolor": "white",
           "ticks": "",
           "title": {
            "standoff": 15
           },
           "zerolinecolor": "white",
           "zerolinewidth": 2
          }
         }
        },
        "title": {
         "text": "US Earthquake Data Visualization"
        }
       }
      }
     },
     "metadata": {},
     "output_type": "display_data"
    }
   ],
   "source": [
    "import pandas as pd\n",
    "import plotly.express as px\n",
    "\n",
    "# Load the earthquake data\n",
    "df = pd.read_csv('Resources/earthquake_data_standardized.csv')\n",
    "\n",
    "# Filter out non-positive magnitudes\n",
    "df = df[df['magnitude'] > 0]\n",
    "\n",
    "# Normalize the magnitudes for sizing\n",
    "df['magnitude_size'] = (df['magnitude'] - df['magnitude'].min()) / (df['magnitude'].max() - df['magnitude'].min()) * 10 + 1\n",
    "\n",
    "# Filter data for earthquakes within the US region (approximate latitude and longitude ranges)\n",
    "# Note: Adjust these bounds as needed to fit your specific data\n",
    "us_df = df[(df['latitude'] >= 25.8400) & (df['latitude'] <= 49.3800) & \n",
    "           (df['longitude'] >= -124.670) & (df['longitude'] <= -66.9500)]\n",
    "\n",
    "# Create a scatter plot with Plotly\n",
    "fig = px.scatter_mapbox(us_df, lat='latitude', lon='longitude', \n",
    "                        color='magnitude', size='magnitude_size',\n",
    "                        color_continuous_scale=px.colors.cyclical.IceFire, size_max=15, zoom=3,\n",
    "                        title=\"US Earthquake Data Visualization\")\n",
    "\n",
    "# Update the layout with Mapbox style and centering on the US\n",
    "fig.update_layout(\n",
    "    mapbox_style=\"open-street-map\",\n",
    "    mapbox_center={\"lat\": 37.0902, \"lon\": -95.7129},  # Center of the US\n",
    "    mapbox_zoom=3,  # Adjust zoom level as needed\n",
    ")\n",
    "\n",
    "# Show the plot in the notebook\n",
    "fig.show()"
   ]
  }
 ],
 "metadata": {
  "kernelspec": {
   "display_name": "Python 3 (ipykernel)",
   "language": "python",
   "name": "python3"
  },
  "language_info": {
   "codemirror_mode": {
    "name": "ipython",
    "version": 3
   },
   "file_extension": ".py",
   "mimetype": "text/x-python",
   "name": "python",
   "nbconvert_exporter": "python",
   "pygments_lexer": "ipython3",
   "version": "3.1.undefined"
  },
  "varInspector": {
   "cols": {
    "lenName": 16,
    "lenType": 16,
    "lenVar": 40
   },
   "kernels_config": {
    "python": {
     "delete_cmd_postfix": "",
     "delete_cmd_prefix": "del ",
     "library": "var_list.py",
     "varRefreshCmd": "print(var_dic_list())"
    },
    "r": {
     "delete_cmd_postfix": ") ",
     "delete_cmd_prefix": "rm(",
     "library": "var_list.r",
     "varRefreshCmd": "cat(var_dic_list()) "
    }
   },
   "types_to_exclude": [
    "module",
    "function",
    "builtin_function_or_method",
    "instance",
    "_Feature"
   ],
   "window_display": false
  }
 },
 "nbformat": 4,
 "nbformat_minor": 2
}
