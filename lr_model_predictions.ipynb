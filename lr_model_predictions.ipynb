{
 "cells": [
  {
   "cell_type": "markdown",
   "metadata": {},
   "source": [
    "# Import necessary libraries"
   ]
  },
  {
   "cell_type": "code",
   "execution_count": 13,
   "metadata": {},
   "outputs": [],
   "source": [
    "#import all the libraries and dependencies\n",
    "import pandas as pd\n",
    "from sklearn.model_selection import train_test_split\n",
    "from sklearn.linear_model import LogisticRegression\n",
    "from sklearn.metrics import accuracy_score, confusion_matrix, classification_report\n",
    "import matplotlib.pyplot as plt\n",
    "import seaborn as sns"
   ]
  },
  {
   "cell_type": "markdown",
   "metadata": {},
   "source": [
    "## Retrieve the Data\n",
    "\n"
   ]
  },
  {
   "cell_type": "code",
   "execution_count": 14,
   "metadata": {},
   "outputs": [
    {
     "data": {
      "text/html": [
       "<div>\n",
       "<style scoped>\n",
       "    .dataframe tbody tr th:only-of-type {\n",
       "        vertical-align: middle;\n",
       "    }\n",
       "\n",
       "    .dataframe tbody tr th {\n",
       "        vertical-align: top;\n",
       "    }\n",
       "\n",
       "    .dataframe thead th {\n",
       "        text-align: right;\n",
       "    }\n",
       "</style>\n",
       "<table border=\"1\" class=\"dataframe\">\n",
       "  <thead>\n",
       "    <tr style=\"text-align: right;\">\n",
       "      <th></th>\n",
       "      <th>longitude</th>\n",
       "      <th>latitude</th>\n",
       "      <th>depth</th>\n",
       "      <th>magnitude</th>\n",
       "      <th>number_stations</th>\n",
       "      <th>min_station_distance</th>\n",
       "      <th>nodal_plane_1_dip</th>\n",
       "      <th>nodal_plane_1_rake</th>\n",
       "      <th>nodal_plane_1_strike</th>\n",
       "      <th>nodal_plane_2_dip</th>\n",
       "      <th>...</th>\n",
       "      <th>t_axis_plunge</th>\n",
       "      <th>percent_double_couple</th>\n",
       "      <th>scalar_moment</th>\n",
       "      <th>tensor_mpp</th>\n",
       "      <th>tensor_mrp</th>\n",
       "      <th>tensor_mrr</th>\n",
       "      <th>tensor_mrt</th>\n",
       "      <th>tensor_mtp</th>\n",
       "      <th>tensor_mtt</th>\n",
       "      <th>mmi_class</th>\n",
       "    </tr>\n",
       "  </thead>\n",
       "  <tbody>\n",
       "    <tr>\n",
       "      <th>0</th>\n",
       "      <td>-0.858789</td>\n",
       "      <td>0.217395</td>\n",
       "      <td>-0.138401</td>\n",
       "      <td>1.259068</td>\n",
       "      <td>-0.162005</td>\n",
       "      <td>-0.621166</td>\n",
       "      <td>0.764993</td>\n",
       "      <td>0.856091</td>\n",
       "      <td>-0.187953</td>\n",
       "      <td>-3.275980</td>\n",
       "      <td>...</td>\n",
       "      <td>3.288087</td>\n",
       "      <td>-0.131701</td>\n",
       "      <td>-0.058242</td>\n",
       "      <td>-0.053888</td>\n",
       "      <td>-0.019118</td>\n",
       "      <td>-0.003759</td>\n",
       "      <td>-0.020843</td>\n",
       "      <td>-0.042471</td>\n",
       "      <td>0.055255</td>\n",
       "      <td>2</td>\n",
       "    </tr>\n",
       "    <tr>\n",
       "      <th>1</th>\n",
       "      <td>-1.586411</td>\n",
       "      <td>1.453026</td>\n",
       "      <td>2.957343</td>\n",
       "      <td>0.278647</td>\n",
       "      <td>-0.799719</td>\n",
       "      <td>0.182939</td>\n",
       "      <td>-0.322804</td>\n",
       "      <td>-1.396320</td>\n",
       "      <td>-0.143028</td>\n",
       "      <td>0.718901</td>\n",
       "      <td>...</td>\n",
       "      <td>0.813702</td>\n",
       "      <td>-0.016844</td>\n",
       "      <td>-0.065891</td>\n",
       "      <td>-0.050703</td>\n",
       "      <td>-0.004675</td>\n",
       "      <td>-0.031174</td>\n",
       "      <td>-0.034918</td>\n",
       "      <td>-0.064978</td>\n",
       "      <td>0.059791</td>\n",
       "      <td>0</td>\n",
       "    </tr>\n",
       "    <tr>\n",
       "      <th>2</th>\n",
       "      <td>-0.451425</td>\n",
       "      <td>1.705352</td>\n",
       "      <td>1.297980</td>\n",
       "      <td>0.866900</td>\n",
       "      <td>-0.368324</td>\n",
       "      <td>2.000126</td>\n",
       "      <td>-0.866703</td>\n",
       "      <td>-0.789901</td>\n",
       "      <td>-0.187953</td>\n",
       "      <td>-1.531736</td>\n",
       "      <td>...</td>\n",
       "      <td>-0.542928</td>\n",
       "      <td>-0.045558</td>\n",
       "      <td>-0.062687</td>\n",
       "      <td>-0.048152</td>\n",
       "      <td>0.025176</td>\n",
       "      <td>-0.045815</td>\n",
       "      <td>-0.028006</td>\n",
       "      <td>-0.074322</td>\n",
       "      <td>0.061360</td>\n",
       "      <td>0</td>\n",
       "    </tr>\n",
       "    <tr>\n",
       "      <th>3</th>\n",
       "      <td>-0.891745</td>\n",
       "      <td>0.639950</td>\n",
       "      <td>-0.776489</td>\n",
       "      <td>0.808074</td>\n",
       "      <td>-0.405837</td>\n",
       "      <td>-0.566141</td>\n",
       "      <td>-0.594754</td>\n",
       "      <td>-0.010221</td>\n",
       "      <td>0.620696</td>\n",
       "      <td>0.775167</td>\n",
       "      <td>...</td>\n",
       "      <td>-0.274021</td>\n",
       "      <td>-0.138879</td>\n",
       "      <td>-0.063113</td>\n",
       "      <td>-0.047294</td>\n",
       "      <td>-0.015576</td>\n",
       "      <td>-0.037577</td>\n",
       "      <td>-0.028875</td>\n",
       "      <td>-0.058419</td>\n",
       "      <td>0.058169</td>\n",
       "      <td>0</td>\n",
       "    </tr>\n",
       "    <tr>\n",
       "      <th>4</th>\n",
       "      <td>0.049063</td>\n",
       "      <td>0.917870</td>\n",
       "      <td>-0.567035</td>\n",
       "      <td>0.866900</td>\n",
       "      <td>1.919944</td>\n",
       "      <td>1.537912</td>\n",
       "      <td>-0.594754</td>\n",
       "      <td>-1.396320</td>\n",
       "      <td>1.564120</td>\n",
       "      <td>0.775167</td>\n",
       "      <td>...</td>\n",
       "      <td>-0.128764</td>\n",
       "      <td>-0.009665</td>\n",
       "      <td>-0.062141</td>\n",
       "      <td>-0.048454</td>\n",
       "      <td>0.008477</td>\n",
       "      <td>-0.034790</td>\n",
       "      <td>-0.019123</td>\n",
       "      <td>-0.052158</td>\n",
       "      <td>0.058550</td>\n",
       "      <td>1</td>\n",
       "    </tr>\n",
       "  </tbody>\n",
       "</table>\n",
       "<p>5 rows × 30 columns</p>\n",
       "</div>"
      ],
      "text/plain": [
       "   longitude  latitude     depth  magnitude  number_stations  \\\n",
       "0  -0.858789  0.217395 -0.138401   1.259068        -0.162005   \n",
       "1  -1.586411  1.453026  2.957343   0.278647        -0.799719   \n",
       "2  -0.451425  1.705352  1.297980   0.866900        -0.368324   \n",
       "3  -0.891745  0.639950 -0.776489   0.808074        -0.405837   \n",
       "4   0.049063  0.917870 -0.567035   0.866900         1.919944   \n",
       "\n",
       "   min_station_distance  nodal_plane_1_dip  nodal_plane_1_rake  \\\n",
       "0             -0.621166           0.764993            0.856091   \n",
       "1              0.182939          -0.322804           -1.396320   \n",
       "2              2.000126          -0.866703           -0.789901   \n",
       "3             -0.566141          -0.594754           -0.010221   \n",
       "4              1.537912          -0.594754           -1.396320   \n",
       "\n",
       "   nodal_plane_1_strike  nodal_plane_2_dip  ...  t_axis_plunge  \\\n",
       "0             -0.187953          -3.275980  ...       3.288087   \n",
       "1             -0.143028           0.718901  ...       0.813702   \n",
       "2             -0.187953          -1.531736  ...      -0.542928   \n",
       "3              0.620696           0.775167  ...      -0.274021   \n",
       "4              1.564120           0.775167  ...      -0.128764   \n",
       "\n",
       "   percent_double_couple  scalar_moment  tensor_mpp  tensor_mrp  tensor_mrr  \\\n",
       "0              -0.131701      -0.058242   -0.053888   -0.019118   -0.003759   \n",
       "1              -0.016844      -0.065891   -0.050703   -0.004675   -0.031174   \n",
       "2              -0.045558      -0.062687   -0.048152    0.025176   -0.045815   \n",
       "3              -0.138879      -0.063113   -0.047294   -0.015576   -0.037577   \n",
       "4              -0.009665      -0.062141   -0.048454    0.008477   -0.034790   \n",
       "\n",
       "   tensor_mrt  tensor_mtp  tensor_mtt  mmi_class  \n",
       "0   -0.020843   -0.042471    0.055255          2  \n",
       "1   -0.034918   -0.064978    0.059791          0  \n",
       "2   -0.028006   -0.074322    0.061360          0  \n",
       "3   -0.028875   -0.058419    0.058169          0  \n",
       "4   -0.019123   -0.052158    0.058550          1  \n",
       "\n",
       "[5 rows x 30 columns]"
      ]
     },
     "execution_count": 14,
     "metadata": {},
     "output_type": "execute_result"
    }
   ],
   "source": [
    "# Import scaled earthquake data\n",
    "df = pd.read_csv('Resources/earthquake_data_standardized.csv')\n",
    "df.head()"
   ]
  },
  {
   "cell_type": "markdown",
   "metadata": {},
   "source": [
    "### Create X and Y "
   ]
  },
  {
   "cell_type": "code",
   "execution_count": 15,
   "metadata": {},
   "outputs": [
    {
     "data": {
      "text/html": [
       "<div>\n",
       "<style scoped>\n",
       "    .dataframe tbody tr th:only-of-type {\n",
       "        vertical-align: middle;\n",
       "    }\n",
       "\n",
       "    .dataframe tbody tr th {\n",
       "        vertical-align: top;\n",
       "    }\n",
       "\n",
       "    .dataframe thead th {\n",
       "        text-align: right;\n",
       "    }\n",
       "</style>\n",
       "<table border=\"1\" class=\"dataframe\">\n",
       "  <thead>\n",
       "    <tr style=\"text-align: right;\">\n",
       "      <th></th>\n",
       "      <th>longitude</th>\n",
       "      <th>latitude</th>\n",
       "      <th>depth</th>\n",
       "      <th>magnitude</th>\n",
       "      <th>number_stations</th>\n",
       "      <th>min_station_distance</th>\n",
       "      <th>nodal_plane_1_dip</th>\n",
       "      <th>nodal_plane_1_rake</th>\n",
       "      <th>nodal_plane_1_strike</th>\n",
       "      <th>nodal_plane_2_dip</th>\n",
       "      <th>...</th>\n",
       "      <th>t_axis_length</th>\n",
       "      <th>t_axis_plunge</th>\n",
       "      <th>percent_double_couple</th>\n",
       "      <th>scalar_moment</th>\n",
       "      <th>tensor_mpp</th>\n",
       "      <th>tensor_mrp</th>\n",
       "      <th>tensor_mrr</th>\n",
       "      <th>tensor_mrt</th>\n",
       "      <th>tensor_mtp</th>\n",
       "      <th>tensor_mtt</th>\n",
       "    </tr>\n",
       "  </thead>\n",
       "  <tbody>\n",
       "    <tr>\n",
       "      <th>0</th>\n",
       "      <td>-0.858789</td>\n",
       "      <td>0.217395</td>\n",
       "      <td>-0.138401</td>\n",
       "      <td>1.259068</td>\n",
       "      <td>-0.162005</td>\n",
       "      <td>-0.621166</td>\n",
       "      <td>0.764993</td>\n",
       "      <td>0.856091</td>\n",
       "      <td>-0.187953</td>\n",
       "      <td>-3.275980</td>\n",
       "      <td>...</td>\n",
       "      <td>-0.059860</td>\n",
       "      <td>3.288087</td>\n",
       "      <td>-0.131701</td>\n",
       "      <td>-0.058242</td>\n",
       "      <td>-0.053888</td>\n",
       "      <td>-0.019118</td>\n",
       "      <td>-0.003759</td>\n",
       "      <td>-0.020843</td>\n",
       "      <td>-0.042471</td>\n",
       "      <td>0.055255</td>\n",
       "    </tr>\n",
       "    <tr>\n",
       "      <th>1</th>\n",
       "      <td>-1.586411</td>\n",
       "      <td>1.453026</td>\n",
       "      <td>2.957343</td>\n",
       "      <td>0.278647</td>\n",
       "      <td>-0.799719</td>\n",
       "      <td>0.182939</td>\n",
       "      <td>-0.322804</td>\n",
       "      <td>-1.396320</td>\n",
       "      <td>-0.143028</td>\n",
       "      <td>0.718901</td>\n",
       "      <td>...</td>\n",
       "      <td>-0.066207</td>\n",
       "      <td>0.813702</td>\n",
       "      <td>-0.016844</td>\n",
       "      <td>-0.065891</td>\n",
       "      <td>-0.050703</td>\n",
       "      <td>-0.004675</td>\n",
       "      <td>-0.031174</td>\n",
       "      <td>-0.034918</td>\n",
       "      <td>-0.064978</td>\n",
       "      <td>0.059791</td>\n",
       "    </tr>\n",
       "    <tr>\n",
       "      <th>2</th>\n",
       "      <td>-0.451425</td>\n",
       "      <td>1.705352</td>\n",
       "      <td>1.297980</td>\n",
       "      <td>0.866900</td>\n",
       "      <td>-0.368324</td>\n",
       "      <td>2.000126</td>\n",
       "      <td>-0.866703</td>\n",
       "      <td>-0.789901</td>\n",
       "      <td>-0.187953</td>\n",
       "      <td>-1.531736</td>\n",
       "      <td>...</td>\n",
       "      <td>-0.062811</td>\n",
       "      <td>-0.542928</td>\n",
       "      <td>-0.045558</td>\n",
       "      <td>-0.062687</td>\n",
       "      <td>-0.048152</td>\n",
       "      <td>0.025176</td>\n",
       "      <td>-0.045815</td>\n",
       "      <td>-0.028006</td>\n",
       "      <td>-0.074322</td>\n",
       "      <td>0.061360</td>\n",
       "    </tr>\n",
       "    <tr>\n",
       "      <th>3</th>\n",
       "      <td>-0.891745</td>\n",
       "      <td>0.639950</td>\n",
       "      <td>-0.776489</td>\n",
       "      <td>0.808074</td>\n",
       "      <td>-0.405837</td>\n",
       "      <td>-0.566141</td>\n",
       "      <td>-0.594754</td>\n",
       "      <td>-0.010221</td>\n",
       "      <td>0.620696</td>\n",
       "      <td>0.775167</td>\n",
       "      <td>...</td>\n",
       "      <td>-0.062760</td>\n",
       "      <td>-0.274021</td>\n",
       "      <td>-0.138879</td>\n",
       "      <td>-0.063113</td>\n",
       "      <td>-0.047294</td>\n",
       "      <td>-0.015576</td>\n",
       "      <td>-0.037577</td>\n",
       "      <td>-0.028875</td>\n",
       "      <td>-0.058419</td>\n",
       "      <td>0.058169</td>\n",
       "    </tr>\n",
       "    <tr>\n",
       "      <th>4</th>\n",
       "      <td>0.049063</td>\n",
       "      <td>0.917870</td>\n",
       "      <td>-0.567035</td>\n",
       "      <td>0.866900</td>\n",
       "      <td>1.919944</td>\n",
       "      <td>1.537912</td>\n",
       "      <td>-0.594754</td>\n",
       "      <td>-1.396320</td>\n",
       "      <td>1.564120</td>\n",
       "      <td>0.775167</td>\n",
       "      <td>...</td>\n",
       "      <td>-0.062428</td>\n",
       "      <td>-0.128764</td>\n",
       "      <td>-0.009665</td>\n",
       "      <td>-0.062141</td>\n",
       "      <td>-0.048454</td>\n",
       "      <td>0.008477</td>\n",
       "      <td>-0.034790</td>\n",
       "      <td>-0.019123</td>\n",
       "      <td>-0.052158</td>\n",
       "      <td>0.058550</td>\n",
       "    </tr>\n",
       "  </tbody>\n",
       "</table>\n",
       "<p>5 rows × 29 columns</p>\n",
       "</div>"
      ],
      "text/plain": [
       "   longitude  latitude     depth  magnitude  number_stations  \\\n",
       "0  -0.858789  0.217395 -0.138401   1.259068        -0.162005   \n",
       "1  -1.586411  1.453026  2.957343   0.278647        -0.799719   \n",
       "2  -0.451425  1.705352  1.297980   0.866900        -0.368324   \n",
       "3  -0.891745  0.639950 -0.776489   0.808074        -0.405837   \n",
       "4   0.049063  0.917870 -0.567035   0.866900         1.919944   \n",
       "\n",
       "   min_station_distance  nodal_plane_1_dip  nodal_plane_1_rake  \\\n",
       "0             -0.621166           0.764993            0.856091   \n",
       "1              0.182939          -0.322804           -1.396320   \n",
       "2              2.000126          -0.866703           -0.789901   \n",
       "3             -0.566141          -0.594754           -0.010221   \n",
       "4              1.537912          -0.594754           -1.396320   \n",
       "\n",
       "   nodal_plane_1_strike  nodal_plane_2_dip  ...  t_axis_length  t_axis_plunge  \\\n",
       "0             -0.187953          -3.275980  ...      -0.059860       3.288087   \n",
       "1             -0.143028           0.718901  ...      -0.066207       0.813702   \n",
       "2             -0.187953          -1.531736  ...      -0.062811      -0.542928   \n",
       "3              0.620696           0.775167  ...      -0.062760      -0.274021   \n",
       "4              1.564120           0.775167  ...      -0.062428      -0.128764   \n",
       "\n",
       "   percent_double_couple  scalar_moment  tensor_mpp  tensor_mrp  tensor_mrr  \\\n",
       "0              -0.131701      -0.058242   -0.053888   -0.019118   -0.003759   \n",
       "1              -0.016844      -0.065891   -0.050703   -0.004675   -0.031174   \n",
       "2              -0.045558      -0.062687   -0.048152    0.025176   -0.045815   \n",
       "3              -0.138879      -0.063113   -0.047294   -0.015576   -0.037577   \n",
       "4              -0.009665      -0.062141   -0.048454    0.008477   -0.034790   \n",
       "\n",
       "   tensor_mrt  tensor_mtp  tensor_mtt  \n",
       "0   -0.020843   -0.042471    0.055255  \n",
       "1   -0.034918   -0.064978    0.059791  \n",
       "2   -0.028006   -0.074322    0.061360  \n",
       "3   -0.028875   -0.058419    0.058169  \n",
       "4   -0.019123   -0.052158    0.058550  \n",
       "\n",
       "[5 rows x 29 columns]"
      ]
     },
     "metadata": {},
     "output_type": "display_data"
    },
    {
     "data": {
      "text/plain": [
       "0    2\n",
       "1    0\n",
       "2    0\n",
       "3    0\n",
       "4    1\n",
       "Name: mmi_class, dtype: int64"
      ]
     },
     "metadata": {},
     "output_type": "display_data"
    }
   ],
   "source": [
    "# Define features and target\n",
    "X = df.drop(columns='mmi_class', axis=1)\n",
    "y = df['mmi_class']\n",
    "display(X.head())\n",
    "display(y[:5])"
   ]
  },
  {
   "cell_type": "markdown",
   "metadata": {},
   "source": [
    "### Split the Data "
   ]
  },
  {
   "cell_type": "code",
   "execution_count": 16,
   "metadata": {},
   "outputs": [],
   "source": [
    "# Split the data\n",
    "X_train, X_test, y_train, y_test = train_test_split(X, y, test_size=0.3, random_state=42)"
   ]
  },
  {
   "cell_type": "markdown",
   "metadata": {},
   "source": [
    "#### Initialize and Fit the Model"
   ]
  },
  {
   "cell_type": "code",
   "execution_count": 17,
   "metadata": {},
   "outputs": [
    {
     "data": {
      "text/html": [
       "<style>#sk-container-id-2 {color: black;}#sk-container-id-2 pre{padding: 0;}#sk-container-id-2 div.sk-toggleable {background-color: white;}#sk-container-id-2 label.sk-toggleable__label {cursor: pointer;display: block;width: 100%;margin-bottom: 0;padding: 0.3em;box-sizing: border-box;text-align: center;}#sk-container-id-2 label.sk-toggleable__label-arrow:before {content: \"▸\";float: left;margin-right: 0.25em;color: #696969;}#sk-container-id-2 label.sk-toggleable__label-arrow:hover:before {color: black;}#sk-container-id-2 div.sk-estimator:hover label.sk-toggleable__label-arrow:before {color: black;}#sk-container-id-2 div.sk-toggleable__content {max-height: 0;max-width: 0;overflow: hidden;text-align: left;background-color: #f0f8ff;}#sk-container-id-2 div.sk-toggleable__content pre {margin: 0.2em;color: black;border-radius: 0.25em;background-color: #f0f8ff;}#sk-container-id-2 input.sk-toggleable__control:checked~div.sk-toggleable__content {max-height: 200px;max-width: 100%;overflow: auto;}#sk-container-id-2 input.sk-toggleable__control:checked~label.sk-toggleable__label-arrow:before {content: \"▾\";}#sk-container-id-2 div.sk-estimator input.sk-toggleable__control:checked~label.sk-toggleable__label {background-color: #d4ebff;}#sk-container-id-2 div.sk-label input.sk-toggleable__control:checked~label.sk-toggleable__label {background-color: #d4ebff;}#sk-container-id-2 input.sk-hidden--visually {border: 0;clip: rect(1px 1px 1px 1px);clip: rect(1px, 1px, 1px, 1px);height: 1px;margin: -1px;overflow: hidden;padding: 0;position: absolute;width: 1px;}#sk-container-id-2 div.sk-estimator {font-family: monospace;background-color: #f0f8ff;border: 1px dotted black;border-radius: 0.25em;box-sizing: border-box;margin-bottom: 0.5em;}#sk-container-id-2 div.sk-estimator:hover {background-color: #d4ebff;}#sk-container-id-2 div.sk-parallel-item::after {content: \"\";width: 100%;border-bottom: 1px solid gray;flex-grow: 1;}#sk-container-id-2 div.sk-label:hover label.sk-toggleable__label {background-color: #d4ebff;}#sk-container-id-2 div.sk-serial::before {content: \"\";position: absolute;border-left: 1px solid gray;box-sizing: border-box;top: 0;bottom: 0;left: 50%;z-index: 0;}#sk-container-id-2 div.sk-serial {display: flex;flex-direction: column;align-items: center;background-color: white;padding-right: 0.2em;padding-left: 0.2em;position: relative;}#sk-container-id-2 div.sk-item {position: relative;z-index: 1;}#sk-container-id-2 div.sk-parallel {display: flex;align-items: stretch;justify-content: center;background-color: white;position: relative;}#sk-container-id-2 div.sk-item::before, #sk-container-id-2 div.sk-parallel-item::before {content: \"\";position: absolute;border-left: 1px solid gray;box-sizing: border-box;top: 0;bottom: 0;left: 50%;z-index: -1;}#sk-container-id-2 div.sk-parallel-item {display: flex;flex-direction: column;z-index: 1;position: relative;background-color: white;}#sk-container-id-2 div.sk-parallel-item:first-child::after {align-self: flex-end;width: 50%;}#sk-container-id-2 div.sk-parallel-item:last-child::after {align-self: flex-start;width: 50%;}#sk-container-id-2 div.sk-parallel-item:only-child::after {width: 0;}#sk-container-id-2 div.sk-dashed-wrapped {border: 1px dashed gray;margin: 0 0.4em 0.5em 0.4em;box-sizing: border-box;padding-bottom: 0.4em;background-color: white;}#sk-container-id-2 div.sk-label label {font-family: monospace;font-weight: bold;display: inline-block;line-height: 1.2em;}#sk-container-id-2 div.sk-label-container {text-align: center;}#sk-container-id-2 div.sk-container {/* jupyter's `normalize.less` sets `[hidden] { display: none; }` but bootstrap.min.css set `[hidden] { display: none !important; }` so we also need the `!important` here to be able to override the default hidden behavior on the sphinx rendered scikit-learn.org. See: https://github.com/scikit-learn/scikit-learn/issues/21755 */display: inline-block !important;position: relative;}#sk-container-id-2 div.sk-text-repr-fallback {display: none;}</style><div id=\"sk-container-id-2\" class=\"sk-top-container\"><div class=\"sk-text-repr-fallback\"><pre>LogisticRegression()</pre><b>In a Jupyter environment, please rerun this cell to show the HTML representation or trust the notebook. <br />On GitHub, the HTML representation is unable to render, please try loading this page with nbviewer.org.</b></div><div class=\"sk-container\" hidden><div class=\"sk-item\"><div class=\"sk-estimator sk-toggleable\"><input class=\"sk-toggleable__control sk-hidden--visually\" id=\"sk-estimator-id-2\" type=\"checkbox\" checked><label for=\"sk-estimator-id-2\" class=\"sk-toggleable__label sk-toggleable__label-arrow\">LogisticRegression</label><div class=\"sk-toggleable__content\"><pre>LogisticRegression()</pre></div></div></div></div></div>"
      ],
      "text/plain": [
       "LogisticRegression()"
      ]
     },
     "execution_count": 17,
     "metadata": {},
     "output_type": "execute_result"
    }
   ],
   "source": [
    "# Initialize the model\n",
    "logreg = LogisticRegression()\n",
    "\n",
    "# Train the model\n",
    "logreg.fit(X_train, y_train)"
   ]
  },
  {
   "cell_type": "code",
   "execution_count": 18,
   "metadata": {},
   "outputs": [],
   "source": [
    "# Make predictions\n",
    "y_pred = logreg.predict(X_test)"
   ]
  },
  {
   "cell_type": "code",
   "execution_count": 19,
   "metadata": {},
   "outputs": [
    {
     "name": "stdout",
     "output_type": "stream",
     "text": [
      "Accuracy: 0.6006944444444444\n"
     ]
    }
   ],
   "source": [
    "# Evaluate the model\n",
    "accuracy = accuracy_score(y_test, y_pred)\n",
    "print('Accuracy:', accuracy)"
   ]
  },
  {
   "cell_type": "code",
   "execution_count": 20,
   "metadata": {},
   "outputs": [
    {
     "name": "stdout",
     "output_type": "stream",
     "text": [
      "Confusion Matrix:\n",
      " [[81 29  4]\n",
      " [30 51 13]\n",
      " [ 8 31 41]]\n"
     ]
    }
   ],
   "source": [
    "# Classification report and Model Evaluation\n",
    "\n",
    "cm = confusion_matrix(y_test, y_pred)\n",
    "print('Confusion Matrix:\\n', cm)"
   ]
  },
  {
   "cell_type": "code",
   "execution_count": 21,
   "metadata": {},
   "outputs": [
    {
     "data": {
      "image/png": "[encoded data removed]",
      "text/plain": [
       "<Figure size 1000x700 with 2 Axes>"
      ]
     },
     "metadata": {},
     "output_type": "display_data"
    }
   ],
   "source": [
    "# y_test and y_pred are defined\n",
    "plt.figure(figsize=(10, 7))\n",
    "sns.heatmap(cm, annot=True, fmt='d', cmap='Blues', xticklabels=['Class 0', 'Class 1', 'Class 2'], yticklabels=['Class 0', 'Class 1', 'Class 2'])\n",
    "plt.xlabel('Predicted')\n",
    "plt.ylabel('Actual')\n",
    "plt.title('Confusion Matrix')\n",
    "plt.show()"
   ]
  },
  {
   "cell_type": "markdown",
   "metadata": {},
   "source": []
  },
  {
   "cell_type": "markdown",
   "metadata": {},
   "source": [
    "# Data transformation"
   ]
  },
  {
   "cell_type": "markdown",
   "metadata": {},
   "source": [
    "## Predict Model Performance\n",
    "\n"
   ]
  },
  {
   "cell_type": "markdown",
   "metadata": {},
   "source": [
    "*Replace the text in this markdown cell with your predictions, and be sure to provide justification for your guess.*"
   ]
  },
  {
   "cell_type": "markdown",
   "metadata": {},
   "source": [
    "## Split the Data into Training and Testing Sets"
   ]
  },
  {
   "cell_type": "code",
   "execution_count": null,
   "metadata": {},
   "outputs": [],
   "source": []
  },
  {
   "cell_type": "code",
   "execution_count": null,
   "metadata": {},
   "outputs": [],
   "source": [
    "\n"
   ]
  },
  {
   "cell_type": "code",
   "execution_count": 22,
   "metadata": {},
   "outputs": [],
   "source": [
    "# Split the data into training and testing datasets by using train_test_split.\n",
    "# Split the data into X_train, X_test, y_train, y_test\n",
    "X_train, X_test, y_train, y_test = train_test_split(X, y, test_size=0.3, random_state=1)"
   ]
  },
  {
   "cell_type": "markdown",
   "metadata": {},
   "source": [
    "## Scale the Features"
   ]
  },
  {
   "cell_type": "markdown",
   "metadata": {},
   "source": [
    "Use the `StandardScaler` to scale the features data. Remember that only `X_train` and `X_test` DataFrames should be scaled."
   ]
  },
  {
   "cell_type": "code",
   "execution_count": 23,
   "metadata": {},
   "outputs": [
    {
     "ename": "NameError",
     "evalue": "name 'StandardScaler' is not defined",
     "output_type": "error",
     "traceback": [
      "\u001b[0;31m---------------------------------------------------------------------------\u001b[0m",
      "\u001b[0;31mNameError\u001b[0m                                 Traceback (most recent call last)",
      "Cell \u001b[0;32mIn[23], line 2\u001b[0m\n\u001b[1;32m      1\u001b[0m \u001b[38;5;66;03m# Create the StandardScaler instance\u001b[39;00m\n\u001b[0;32m----> 2\u001b[0m scaler \u001b[38;5;241m=\u001b[39m \u001b[43mStandardScaler\u001b[49m()\n",
      "\u001b[0;31mNameError\u001b[0m: name 'StandardScaler' is not defined"
     ]
    }
   ],
   "source": [
    "# Create the StandardScaler instance\n",
    "scaler = StandardScaler()"
   ]
  },
  {
   "cell_type": "code",
   "execution_count": null,
   "metadata": {},
   "outputs": [
    {
     "data": {
      "text/html": [
       "<style>#sk-container-id-1 {color: black;}#sk-container-id-1 pre{padding: 0;}#sk-container-id-1 div.sk-toggleable {background-color: white;}#sk-container-id-1 label.sk-toggleable__label {cursor: pointer;display: block;width: 100%;margin-bottom: 0;padding: 0.3em;box-sizing: border-box;text-align: center;}#sk-container-id-1 label.sk-toggleable__label-arrow:before {content: \"▸\";float: left;margin-right: 0.25em;color: #696969;}#sk-container-id-1 label.sk-toggleable__label-arrow:hover:before {color: black;}#sk-container-id-1 div.sk-estimator:hover label.sk-toggleable__label-arrow:before {color: black;}#sk-container-id-1 div.sk-toggleable__content {max-height: 0;max-width: 0;overflow: hidden;text-align: left;background-color: #f0f8ff;}#sk-container-id-1 div.sk-toggleable__content pre {margin: 0.2em;color: black;border-radius: 0.25em;background-color: #f0f8ff;}#sk-container-id-1 input.sk-toggleable__control:checked~div.sk-toggleable__content {max-height: 200px;max-width: 100%;overflow: auto;}#sk-container-id-1 input.sk-toggleable__control:checked~label.sk-toggleable__label-arrow:before {content: \"▾\";}#sk-container-id-1 div.sk-estimator input.sk-toggleable__control:checked~label.sk-toggleable__label {background-color: #d4ebff;}#sk-container-id-1 div.sk-label input.sk-toggleable__control:checked~label.sk-toggleable__label {background-color: #d4ebff;}#sk-container-id-1 input.sk-hidden--visually {border: 0;clip: rect(1px 1px 1px 1px);clip: rect(1px, 1px, 1px, 1px);height: 1px;margin: -1px;overflow: hidden;padding: 0;position: absolute;width: 1px;}#sk-container-id-1 div.sk-estimator {font-family: monospace;background-color: #f0f8ff;border: 1px dotted black;border-radius: 0.25em;box-sizing: border-box;margin-bottom: 0.5em;}#sk-container-id-1 div.sk-estimator:hover {background-color: #d4ebff;}#sk-container-id-1 div.sk-parallel-item::after {content: \"\";width: 100%;border-bottom: 1px solid gray;flex-grow: 1;}#sk-container-id-1 div.sk-label:hover label.sk-toggleable__label {background-color: #d4ebff;}#sk-container-id-1 div.sk-serial::before {content: \"\";position: absolute;border-left: 1px solid gray;box-sizing: border-box;top: 0;bottom: 0;left: 50%;z-index: 0;}#sk-container-id-1 div.sk-serial {display: flex;flex-direction: column;align-items: center;background-color: white;padding-right: 0.2em;padding-left: 0.2em;position: relative;}#sk-container-id-1 div.sk-item {position: relative;z-index: 1;}#sk-container-id-1 div.sk-parallel {display: flex;align-items: stretch;justify-content: center;background-color: white;position: relative;}#sk-container-id-1 div.sk-item::before, #sk-container-id-1 div.sk-parallel-item::before {content: \"\";position: absolute;border-left: 1px solid gray;box-sizing: border-box;top: 0;bottom: 0;left: 50%;z-index: -1;}#sk-container-id-1 div.sk-parallel-item {display: flex;flex-direction: column;z-index: 1;position: relative;background-color: white;}#sk-container-id-1 div.sk-parallel-item:first-child::after {align-self: flex-end;width: 50%;}#sk-container-id-1 div.sk-parallel-item:last-child::after {align-self: flex-start;width: 50%;}#sk-container-id-1 div.sk-parallel-item:only-child::after {width: 0;}#sk-container-id-1 div.sk-dashed-wrapped {border: 1px dashed gray;margin: 0 0.4em 0.5em 0.4em;box-sizing: border-box;padding-bottom: 0.4em;background-color: white;}#sk-container-id-1 div.sk-label label {font-family: monospace;font-weight: bold;display: inline-block;line-height: 1.2em;}#sk-container-id-1 div.sk-label-container {text-align: center;}#sk-container-id-1 div.sk-container {/* jupyter's `normalize.less` sets `[hidden] { display: none; }` but bootstrap.min.css set `[hidden] { display: none !important; }` so we also need the `!important` here to be able to override the default hidden behavior on the sphinx rendered scikit-learn.org. See: https://github.com/scikit-learn/scikit-learn/issues/21755 */display: inline-block !important;position: relative;}#sk-container-id-1 div.sk-text-repr-fallback {display: none;}</style><div id=\"sk-container-id-1\" class=\"sk-top-container\"><div class=\"sk-text-repr-fallback\"><pre>StandardScaler()</pre><b>In a Jupyter environment, please rerun this cell to show the HTML representation or trust the notebook. <br />On GitHub, the HTML representation is unable to render, please try loading this page with nbviewer.org.</b></div><div class=\"sk-container\" hidden><div class=\"sk-item\"><div class=\"sk-estimator sk-toggleable\"><input class=\"sk-toggleable__control sk-hidden--visually\" id=\"sk-estimator-id-1\" type=\"checkbox\" checked><label for=\"sk-estimator-id-1\" class=\"sk-toggleable__label sk-toggleable__label-arrow\">StandardScaler</label><div class=\"sk-toggleable__content\"><pre>StandardScaler()</pre></div></div></div></div></div>"
      ],
      "text/plain": [
       "StandardScaler()"
      ]
     },
     "execution_count": 9,
     "metadata": {},
     "output_type": "execute_result"
    }
   ],
   "source": [
    "# Fit the Standard Scaler with the training data\n",
    "scaler.fit(X_train)"
   ]
  },
  {
   "cell_type": "code",
   "execution_count": null,
   "metadata": {},
   "outputs": [],
   "source": [
    "# Scale the training and testing features DataFrames using the transform function\n",
    "X_train_scaled = scaler.transform(X_train)\n",
    "X_test_scaled = scaler.transform(X_test)"
   ]
  },
  {
   "cell_type": "markdown",
   "metadata": {},
   "source": [
    "# Train and evaluate model"
   ]
  },
  {
   "cell_type": "markdown",
   "metadata": {},
   "source": []
  },
  {
   "cell_type": "markdown",
   "metadata": {},
   "source": [
    "## Create and Fit a Logistic Regression Model\n",
    "\n",
    "Create a Logistic Regression model, fit it to the training data, make predictions with the testing data, and print the model's accuracy score. You may choose any starting settings you like. "
   ]
  },
  {
   "cell_type": "code",
   "execution_count": null,
   "metadata": {},
   "outputs": [
    {
     "ename": "NameError",
     "evalue": "name 'X_train_scaled' is not defined",
     "output_type": "error",
     "traceback": [
      "\u001b[0;31m---------------------------------------------------------------------------\u001b[0m",
      "\u001b[0;31mNameError\u001b[0m                                 Traceback (most recent call last)",
      "Cell \u001b[0;32mIn[8], line 11\u001b[0m\n\u001b[1;32m      8\u001b[0m logistic_regression \u001b[38;5;241m=\u001b[39m LogisticRegression(random_state\u001b[38;5;241m=\u001b[39m\u001b[38;5;241m1\u001b[39m)\n\u001b[1;32m     10\u001b[0m \u001b[38;5;66;03m# Train the model on the scaled training data\u001b[39;00m\n\u001b[0;32m---> 11\u001b[0m logistical_regression\u001b[38;5;241m.\u001b[39mfit(\u001b[43mX_train_scaled\u001b[49m, y_train)\n\u001b[1;32m     13\u001b[0m \u001b[38;5;66;03m# Evaluate the model on the scaled test data\u001b[39;00m\n\u001b[1;32m     14\u001b[0m model_score \u001b[38;5;241m=\u001b[39m logistical_regression\u001b[38;5;241m.\u001b[39mscore(X_test_scaled, y_test)\n",
      "\u001b[0;31mNameError\u001b[0m: name 'X_train_scaled' is not defined"
     ]
    }
   ],
   "source": [
    "# Train a Logistic Regression model and print the model score\n",
    "# Fit a logistic regression model by using the scaled training data (X_train_scaled and y_train). Set the random_state argument to 1.\n",
    "\n",
    "# Create a logistic regression model\n",
    "logistical_regression = LogisticRegression()\n",
    "\n",
    "# Create a logistic regression model with random_state set for reproducibility\n",
    "logistic_regression = LogisticRegression(random_state=1)\n",
    "\n",
    "# Train the model on the scaled training data\n",
    "logistical_regression.fit(X_train_scaled, y_train)\n",
    "\n",
    "# Evaluate the model on the scaled test data\n",
    "model_score = logistical_regression.score(X_test_scaled, y_test)\n",
    "\n",
    "# Make predictions using the test data\n",
    "predictions_test = logistical_regression.predict(X_test_scaled)\n",
    "\n",
    "# Print the model score\n",
    "print(\"Logistic Regression Model Score: \", model_score)\n"
   ]
  },
  {
   "cell_type": "code",
   "execution_count": null,
   "metadata": {},
   "outputs": [],
   "source": [
    "#Convert the predictions to a DataFrame\n",
    "\n",
    "#Print the predictions\n"
   ]
  },
  {
   "cell_type": "code",
   "execution_count": null,
   "metadata": {},
   "outputs": [
    {
     "name": "stdout",
     "output_type": "stream",
     "text": [
      "[0 0 1 0 0 1 1 0 1 1]\n"
     ]
    }
   ],
   "source": [
    "# Make and save testing predictions with the saved logistic regression model using the scaled test data\n",
    "predictions = logistical_regression.predict(X_test_scaled)\n",
    "# Review the predictions\n",
    "print(predictions[:10])"
   ]
  },
  {
   "cell_type": "code",
   "execution_count": null,
   "metadata": {},
   "outputs": [],
   "source": [
    "# Print the first 10 predictions alongside the actual labels\n",
    "# Reset index of y_test for proper alignment\n",
    "\n"
   ]
  },
  {
   "cell_type": "code",
   "execution_count": null,
   "metadata": {},
   "outputs": [],
   "source": [
    "# Calculate the accuracy score by evaluating `y_test` vs. `testing_predictions`.\n"
   ]
  },
  {
   "cell_type": "markdown",
   "metadata": {},
   "source": [
    "## Create and Fit a Random Forest Classifier Model\n",
    "\n",
    "Create a Random Forest Classifier model, fit it to the training data, make predictions with the testing data, and print the model's accuracy score. You may choose any starting settings you like. "
   ]
  },
  {
   "cell_type": "code",
   "execution_count": null,
   "metadata": {},
   "outputs": [],
   "source": [
    "# Train a Random Forest Classifier model and print the model score\n"
   ]
  },
  {
   "cell_type": "code",
   "execution_count": null,
   "metadata": {},
   "outputs": [],
   "source": [
    "# Make and save testing predictions with the saved logistic regression model using the test data\n"
   ]
  },
  {
   "cell_type": "code",
   "execution_count": null,
   "metadata": {},
   "outputs": [],
   "source": [
    "# Calculate the accuracy score by evaluating `y_test` vs. `testing_predictions`.\n"
   ]
  },
  {
   "cell_type": "code",
   "execution_count": null,
   "metadata": {},
   "outputs": [],
   "source": [
    "# Add some text for labels, title and custom x-axis tick labels, etc.\n"
   ]
  },
  {
   "cell_type": "markdown",
   "metadata": {},
   "source": [
    "## Evaluate the Models\n",
    "\n",
    "Which model performed better? How does that compare to your prediction? Write down your results and thoughts in the following markdown cell."
   ]
  },
  {
   "cell_type": "markdown",
   "metadata": {},
   "source": [
    "\n"
   ]
  },
  {
   "cell_type": "markdown",
   "metadata": {},
   "source": [
    "*Replace the text in this markdown cell with your answers to these questions.*"
   ]
  },
  {
   "cell_type": "markdown",
   "metadata": {},
   "source": []
  }
 ],
 "metadata": {
  "kernelspec": {
   "display_name": "Python 3 (ipykernel)",
   "language": "python",
   "name": "python3"
  },
  "language_info": {
   "codemirror_mode": {
    "name": "ipython",
    "version": 3
   },
   "file_extension": ".py",
   "mimetype": "text/x-python",
   "name": "python",
   "nbconvert_exporter": "python",
   "pygments_lexer": "ipython3",
   "version": "3.10.13"
  }
 },
 "nbformat": 4,
 "nbformat_minor": 4
}
